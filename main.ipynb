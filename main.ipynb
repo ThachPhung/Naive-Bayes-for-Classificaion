{
 "cells": [
  {
   "cell_type": "markdown",
   "id": "401d968a",
   "metadata": {},
   "source": [
    "## Libraries"
   ]
  },
  {
   "cell_type": "code",
   "execution_count": 35,
   "id": "1b77ad7e",
   "metadata": {},
   "outputs": [
    {
     "name": "stderr",
     "output_type": "stream",
     "text": [
      "[nltk_data] Error loading stopwords: <urlopen error [SSL:\n",
      "[nltk_data]     CERTIFICATE_VERIFY_FAILED] certificate verify failed:\n",
      "[nltk_data]     unable to get local issuer certificate (_ssl.c:1006)>\n",
      "[nltk_data] Error loading punkt: <urlopen error [SSL:\n",
      "[nltk_data]     CERTIFICATE_VERIFY_FAILED] certificate verify failed:\n",
      "[nltk_data]     unable to get local issuer certificate (_ssl.c:1006)>\n"
     ]
    }
   ],
   "source": [
    "import string\n",
    "import nltk\n",
    "nltk.download('stopwords')\n",
    "nltk.download('punkt')\n",
    "from nltk.corpus import stopwords\n",
    "from nltk.tokenize import word_tokenize\n",
    "from nltk.stem import PorterStemmer\n",
    "import pandas as pd\n",
    "import numpy as np\n",
    "import matplotlib.pyplot as plt\n",
    "\n",
    "from sklearn.model_selection import train_test_split\n",
    "from sklearn.naive_bayes import GaussianNB\n",
    "from sklearn.metrics import accuracy_score\n",
    "from sklearn.preprocessing import LabelEncoder\n"
   ]
  },
  {
   "cell_type": "markdown",
   "id": "e52111d1",
   "metadata": {},
   "source": [
    "### PREPROCESSING"
   ]
  },
  {
   "cell_type": "code",
   "execution_count": 41,
   "id": "cddd41af",
   "metadata": {},
   "outputs": [],
   "source": [
    "DATASET_PATH = \"./Data/cls_spam_text_cls.csv\"\n",
    "df = pd.read_csv(DATASET_PATH)\n",
    "messages = df[\"Message\"].values.tolist()\n",
    "labels = df[\"Category\"].values.tolist()"
   ]
  },
  {
   "cell_type": "code",
   "execution_count": 42,
   "id": "a83ba231",
   "metadata": {},
   "outputs": [
    {
     "data": {
      "text/plain": [
       "['Go until jurong point, crazy.. Available only in bugis n great world la e buffet... Cine there got amore wat...']"
      ]
     },
     "execution_count": 42,
     "metadata": {},
     "output_type": "execute_result"
    }
   ],
   "source": [
    "messages[:1]"
   ]
  },
  {
   "cell_type": "code",
   "execution_count": 43,
   "id": "efb0cdcc",
   "metadata": {},
   "outputs": [],
   "source": [
    "import string\n",
    "\n",
    "class TextPreprocessor:\n",
    "    def __init__(self, stopwords=None):\n",
    "        if stopwords is None:\n",
    "            # Danh sách stopwords đơn giản (bạn có thể mở rộng)\n",
    "            self.stopwords = set([\n",
    "                'a', 'an', 'the', 'is', 'are', 'am', 'in', 'on', 'at',\n",
    "                'this', 'that', 'and', 'or', 'not', 'to', 'of', 'for', 'with', 'as', 'by', 'be'\n",
    "            ])\n",
    "        else:\n",
    "            self.stopwords = set(stopwords)\n",
    "\n",
    "    def lowercase(self, text):\n",
    "        return text.lower()\n",
    "\n",
    "    def remove_punctuation(self, text):\n",
    "        return text.translate(str.maketrans('', '', string.punctuation))\n",
    "\n",
    "    def tokenize(self, text):\n",
    "        # tách theo dấu cách\n",
    "        return text.split()\n",
    "\n",
    "    def remove_stopwords(self, tokens):\n",
    "        return [word for word in tokens if word not in self.stopwords]\n",
    "\n",
    "    def stem(self, tokens):\n",
    "        # Stemming đơn giản bằng cách cắt hậu tố phổ biến \n",
    "        suffixes = ['ing', 'ed', 'ly', 's', 'es']\n",
    "        stemmed = []\n",
    "        for word in tokens:\n",
    "            for suffix in suffixes:\n",
    "                if word.endswith(suffix) and len(word) > len(suffix) + 2:\n",
    "                    word = word[: -len(suffix)]\n",
    "                    break\n",
    "            stemmed.append(word)\n",
    "        return stemmed\n",
    "\n",
    "    def preprocess(self, text):\n",
    "        text = self.lowercase(text)\n",
    "        text = self.remove_punctuation(text)\n",
    "        tokens = self.tokenize(text)\n",
    "        tokens = self.remove_stopwords(tokens)\n",
    "        tokens = self.stem(tokens)\n",
    "        return tokens\n",
    "\n",
    "\n",
    "preprocess = TextPreprocessor()\n",
    "messages = [preprocess.preprocess(message) for message in messages]"
   ]
  },
  {
   "cell_type": "code",
   "execution_count": 44,
   "id": "ef2cdeed",
   "metadata": {},
   "outputs": [
    {
     "data": {
      "text/plain": [
       "[['go',\n",
       "  'until',\n",
       "  'jurong',\n",
       "  'point',\n",
       "  'crazy',\n",
       "  'available',\n",
       "  'only',\n",
       "  'bugi',\n",
       "  'n',\n",
       "  'great',\n",
       "  'world',\n",
       "  'la',\n",
       "  'e',\n",
       "  'buffet',\n",
       "  'cine',\n",
       "  'there',\n",
       "  'got',\n",
       "  'amore',\n",
       "  'wat']]"
      ]
     },
     "execution_count": 44,
     "metadata": {},
     "output_type": "execute_result"
    }
   ],
   "source": [
    "messages[:1]"
   ]
  },
  {
   "cell_type": "markdown",
   "id": "f4fe122b",
   "metadata": {},
   "source": [
    "### Create a Dictionary"
   ]
  },
  {
   "cell_type": "code",
   "execution_count": 48,
   "id": "1b6dc53d",
   "metadata": {},
   "outputs": [],
   "source": [
    "def create_dictionary(messages):\n",
    "    dictionary = []\n",
    "    for tokens in messages:\n",
    "        for token in tokens:\n",
    "            if token not in dictionary:\n",
    "                dictionary.append(token)\n",
    "\n",
    "    return dictionary\n",
    "\n",
    "dictionary = create_dictionary(messages)"
   ]
  },
  {
   "cell_type": "markdown",
   "id": "b6646feb",
   "metadata": {},
   "source": [
    "#### Bag of words"
   ]
  },
  {
   "cell_type": "code",
   "execution_count": 64,
   "id": "9e79d00f",
   "metadata": {},
   "outputs": [],
   "source": [
    "def create_features(tokens, dictionary):\n",
    "    features = np.zeros(len(dictionary))\n",
    "    for token in tokens:\n",
    "        if token in dictionary:\n",
    "            features[dictionary.index(token)] += 1\n",
    "    return features\n",
    "\n",
    "X = np.array([create_features(tokens, dictionary) for tokens in messages])\n"
   ]
  },
  {
   "cell_type": "code",
   "execution_count": 65,
   "id": "621f7658",
   "metadata": {},
   "outputs": [
    {
     "name": "stdout",
     "output_type": "stream",
     "text": [
      "Classes: ['ham' 'spam']\n",
      "Encoded labels: [0 0 1 ... 0 0 0]\n"
     ]
    }
   ],
   "source": [
    "le = LabelEncoder()\n",
    "y = le.fit_transform(labels)\n",
    "print(f\"Classes: {le.classes_}\")\n",
    "print(f\"Encoded labels: {y}\")"
   ]
  },
  {
   "cell_type": "markdown",
   "id": "a44e61b1",
   "metadata": {},
   "source": [
    "### Split data preparation"
   ]
  },
  {
   "cell_type": "code",
   "execution_count": 66,
   "id": "8b562db0",
   "metadata": {},
   "outputs": [],
   "source": [
    "VAL_SIZE = 0.2\n",
    "TEST_SIZE = 0.125 # 0.1 / (1 - 0.2)\n",
    "SEED = 0\n",
    "\n",
    "X_train, X_val, y_train, y_val = train_test_split(X, y, \n",
    "                                                  test_size= VAL_SIZE,\n",
    "                                                  shuffle=True,\n",
    "                                                  random_state=SEED)\n",
    "\n",
    "X_train, X_test, y_train, y_test = train_test_split(X_train, y_train,\n",
    "                                                    test_size=TEST_SIZE,\n",
    "                                                    shuffle=True,\n",
    "                                                    random_state=SEED)"
   ]
  },
  {
   "cell_type": "markdown",
   "id": "d7a89ba4",
   "metadata": {},
   "source": [
    "### Model"
   ]
  },
  {
   "cell_type": "code",
   "execution_count": 67,
   "id": "8c6b602c",
   "metadata": {},
   "outputs": [
    {
     "name": "stdout",
     "output_type": "stream",
     "text": [
      "Start Training ....\n",
      "Training completed ....\n"
     ]
    }
   ],
   "source": [
    "model = GaussianNB()\n",
    "print(\"Start Training ....\")\n",
    "model.fit(X_train, y_train)\n",
    "print(\"Training completed ....\")"
   ]
  },
  {
   "cell_type": "markdown",
   "id": "3e401c5d",
   "metadata": {},
   "source": [
    "### EVALUATION"
   ]
  },
  {
   "cell_type": "code",
   "execution_count": 68,
   "id": "ad1a0b17",
   "metadata": {},
   "outputs": [
    {
     "name": "stdout",
     "output_type": "stream",
     "text": [
      "Val accuracy: 0.8888\n",
      "Test accuracy: 0.8710\n"
     ]
    }
   ],
   "source": [
    "y_val_pred = model.predict(X_val)\n",
    "y_test_pred = model.predict(X_test)\n",
    "\n",
    "val_accuracy = accuracy_score(y_val, y_val_pred)\n",
    "test_accuracy = accuracy_score(y_test, y_test_pred)\n",
    "\n",
    "\n",
    "print(f\"Val accuracy: {val_accuracy:.4f}\")\n",
    "print(f\"Test accuracy: {test_accuracy:.4f}\")\n"
   ]
  },
  {
   "cell_type": "markdown",
   "id": "dfedccb1",
   "metadata": {},
   "source": [
    "### Implement Prediction"
   ]
  },
  {
   "cell_type": "code",
   "execution_count": 72,
   "id": "b21fa9f1",
   "metadata": {},
   "outputs": [
    {
     "name": "stdout",
     "output_type": "stream",
     "text": [
      "Prediction: ham\n"
     ]
    }
   ],
   "source": [
    "def predict(text, model, dictionary, label_encoder):\n",
    "    precessed_text = preprocess.preprocess(text)\n",
    "    features = create_features(precessed_text, dictionary)\n",
    "    features = np.array(features).reshape(1, -1)\n",
    "    prediction = model.predict(features)\n",
    "    prediction_cls = label_encoder.inverse_transform(prediction)[0]\n",
    "    return prediction_cls\n",
    "\n",
    "\n",
    "test_input = \"I am actually thinking a way of doing something useful\"\n",
    "prediction_cls = predict(test_input, model, dictionary, le)\n",
    "print(f\"Prediction: {prediction_cls}\")"
   ]
  }
 ],
 "metadata": {
  "kernelspec": {
   "display_name": ".venv",
   "language": "python",
   "name": "python3"
  },
  "language_info": {
   "codemirror_mode": {
    "name": "ipython",
    "version": 3
   },
   "file_extension": ".py",
   "mimetype": "text/x-python",
   "name": "python",
   "nbconvert_exporter": "python",
   "pygments_lexer": "ipython3",
   "version": "3.11.5"
  }
 },
 "nbformat": 4,
 "nbformat_minor": 5
}
